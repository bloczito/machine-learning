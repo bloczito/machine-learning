{
 "cells": [
  {
   "cell_type": "markdown",
   "metadata": {},
   "source": [
    "# Exercises\n",
    "\n",
    "There are three exercises in this notebook:\n",
    "\n",
    "1. Use the cross-validation method to test the linear regression with different $\\alpha$ values, at least three.\n",
    "2. Implement a SGD method that will train the Lasso regression for 10 epochs.\n",
    "3. Extend the Fisher's classifier to work with two features. Use the class as the $y$."
   ]
  },
  {
   "cell_type": "markdown",
   "metadata": {},
   "source": [
    "## 1. Cross-validation linear regression\n",
    "\n",
    "You need to change the variable ``alpha`` to be a list of alphas. Next do a loop and finally compare the results."
   ]
  },
  {
   "cell_type": "code",
   "execution_count": 13,
   "outputs": [],
   "source": [
    "import numpy as np\n",
    "import pandas as pd"
   ],
   "metadata": {
    "collapsed": false,
    "pycharm": {
     "name": "#%%\n"
    }
   }
  },
  {
   "cell_type": "code",
   "execution_count": 14,
   "metadata": {},
   "outputs": [
    {
     "data": {
      "text/plain": "               a         b\n-1.0   26.667097  0.442962\n-0.9   30.122934  0.423398\n-0.8   34.607973  0.398008\n-0.7   40.662425  0.363733\n-0.6   49.284735  0.314922\n-0.5   62.548230  0.239837\n-0.4   85.580223  0.109451\n-0.3  135.462841 -0.172936\n-0.2  324.767138 -1.244596\n-0.1 -817.017374  5.219094\n 0.0 -180.924018  1.618142\n 0.1 -101.723971  1.169788\n 0.2  -70.751422  0.994451\n 0.3  -54.237043  0.900962\n 0.4  -43.972861  0.842856\n 0.5  -36.975220  0.803242\n 0.6  -31.898837  0.774504\n 0.7  -28.047977  0.752704\n 0.8  -25.026648  0.735600\n 0.9  -22.592872  0.721822\n 1.0  -20.590447  0.710486",
      "text/html": "<div>\n<style scoped>\n    .dataframe tbody tr th:only-of-type {\n        vertical-align: middle;\n    }\n\n    .dataframe tbody tr th {\n        vertical-align: top;\n    }\n\n    .dataframe thead th {\n        text-align: right;\n    }\n</style>\n<table border=\"1\" class=\"dataframe\">\n  <thead>\n    <tr style=\"text-align: right;\">\n      <th></th>\n      <th>a</th>\n      <th>b</th>\n    </tr>\n  </thead>\n  <tbody>\n    <tr>\n      <th>-1.0</th>\n      <td>26.667097</td>\n      <td>0.442962</td>\n    </tr>\n    <tr>\n      <th>-0.9</th>\n      <td>30.122934</td>\n      <td>0.423398</td>\n    </tr>\n    <tr>\n      <th>-0.8</th>\n      <td>34.607973</td>\n      <td>0.398008</td>\n    </tr>\n    <tr>\n      <th>-0.7</th>\n      <td>40.662425</td>\n      <td>0.363733</td>\n    </tr>\n    <tr>\n      <th>-0.6</th>\n      <td>49.284735</td>\n      <td>0.314922</td>\n    </tr>\n    <tr>\n      <th>-0.5</th>\n      <td>62.548230</td>\n      <td>0.239837</td>\n    </tr>\n    <tr>\n      <th>-0.4</th>\n      <td>85.580223</td>\n      <td>0.109451</td>\n    </tr>\n    <tr>\n      <th>-0.3</th>\n      <td>135.462841</td>\n      <td>-0.172936</td>\n    </tr>\n    <tr>\n      <th>-0.2</th>\n      <td>324.767138</td>\n      <td>-1.244596</td>\n    </tr>\n    <tr>\n      <th>-0.1</th>\n      <td>-817.017374</td>\n      <td>5.219094</td>\n    </tr>\n    <tr>\n      <th>0.0</th>\n      <td>-180.924018</td>\n      <td>1.618142</td>\n    </tr>\n    <tr>\n      <th>0.1</th>\n      <td>-101.723971</td>\n      <td>1.169788</td>\n    </tr>\n    <tr>\n      <th>0.2</th>\n      <td>-70.751422</td>\n      <td>0.994451</td>\n    </tr>\n    <tr>\n      <th>0.3</th>\n      <td>-54.237043</td>\n      <td>0.900962</td>\n    </tr>\n    <tr>\n      <th>0.4</th>\n      <td>-43.972861</td>\n      <td>0.842856</td>\n    </tr>\n    <tr>\n      <th>0.5</th>\n      <td>-36.975220</td>\n      <td>0.803242</td>\n    </tr>\n    <tr>\n      <th>0.6</th>\n      <td>-31.898837</td>\n      <td>0.774504</td>\n    </tr>\n    <tr>\n      <th>0.7</th>\n      <td>-28.047977</td>\n      <td>0.752704</td>\n    </tr>\n    <tr>\n      <th>0.8</th>\n      <td>-25.026648</td>\n      <td>0.735600</td>\n    </tr>\n    <tr>\n      <th>0.9</th>\n      <td>-22.592872</td>\n      <td>0.721822</td>\n    </tr>\n    <tr>\n      <th>1.0</th>\n      <td>-20.590447</td>\n      <td>0.710486</td>\n    </tr>\n  </tbody>\n</table>\n</div>"
     },
     "execution_count": 14,
     "metadata": {},
     "output_type": "execute_result"
    }
   ],
   "source": [
    "\n",
    "x = np.array([188, 181, 197, 168, 167, 187, 178, 194, 140, 176, 168, 192, 173, 142, 176]).reshape(-1, 1).reshape(15,1)\n",
    "y = np.array([141, 106, 149, 59, 79, 136, 65, 136, 52, 87, 115, 140, 82, 69, 121]).reshape(-1, 1).reshape(15,1)\n",
    "\n",
    "x = np.asmatrix(np.c_[np.ones((15,1)),x])\n",
    "\n",
    "I = np.identity(2)\n",
    "alphas = [x * 0.1 for x in range(-10, 11)]\n",
    "# alphas = np.append(alphas, np.ones((21, 1)), axis=1)\n",
    "\n",
    "results = []\n",
    "\n",
    "for alpha in alphas:\n",
    "    w = np.linalg.inv(x.T*x + alpha * I)*x.T*y\n",
    "    w=w.ravel()\n",
    "    results.append(w)\n",
    "\n",
    "\n",
    "results = np.asarray(results).flatten().reshape(21, 2)\n",
    "df = pd.DataFrame(data=results, index=alphas, columns=[\"a\", \"b\"])\n",
    "\n",
    "df"
   ]
  },
  {
   "cell_type": "markdown",
   "metadata": {},
   "source": [
    "## 2. Implement based on the Ridge regression example, the Lasso regression.\n",
    "\n",
    "Please implement the SGD method and compare the results with the sklearn Lasso regression results."
   ]
  },
  {
   "cell_type": "code",
   "execution_count": 54,
   "metadata": {},
   "outputs": [],
   "source": [
    "def sgd(x, y, alpha):\n",
    "    coeffs = np.zeros((2, 1))\n",
    "    norm = np.linalg.norm(x, axis = 0)\n",
    "    w, b = coeffs[0], coeffs[1]\n",
    "    for i in range(1600):\n",
    "        x_in = x[:,1].reshape(-1, 1)\n",
    "        y_pred = x_in * w + b\n",
    "        if w > 0:\n",
    "            dW = (- (2 * x_in.T.dot(y - y_pred)) + alpha) / norm[1] ** 2\n",
    "        else:\n",
    "            dW = (- (2 * x_in.T.dot(y - y_pred)) - alpha) / norm[1] ** 2\n",
    "        db = - 2 * np.sum(y - y_pred) // norm[0] ** 2\n",
    "        w = w - alpha * dW\n",
    "        b = b - alpha * db\n",
    "    coeffs[0] = b\n",
    "    coeffs[1] = w\n",
    "    return coeffs"
   ]
  },
  {
   "cell_type": "code",
   "execution_count": 64,
   "outputs": [
    {
     "data": {
      "text/plain": "                a         b\nlasso -101.723971  1.169788\nsgd   -101.900000  1.169511",
      "text/html": "<div>\n<style scoped>\n    .dataframe tbody tr th:only-of-type {\n        vertical-align: middle;\n    }\n\n    .dataframe tbody tr th {\n        vertical-align: top;\n    }\n\n    .dataframe thead th {\n        text-align: right;\n    }\n</style>\n<table border=\"1\" class=\"dataframe\">\n  <thead>\n    <tr style=\"text-align: right;\">\n      <th></th>\n      <th>a</th>\n      <th>b</th>\n    </tr>\n  </thead>\n  <tbody>\n    <tr>\n      <th>lasso</th>\n      <td>-101.723971</td>\n      <td>1.169788</td>\n    </tr>\n    <tr>\n      <th>sgd</th>\n      <td>-101.900000</td>\n      <td>1.169511</td>\n    </tr>\n  </tbody>\n</table>\n</div>"
     },
     "execution_count": 64,
     "metadata": {},
     "output_type": "execute_result"
    }
   ],
   "source": [
    "x = np.array([188, 181, 197, 168, 167, 187, 178, 194, 140, 176, 168, 192, 173, 142, 176]).reshape(-1, 1).reshape(15,1)\n",
    "y = np.array([141, 106, 149, 59, 79, 136, 65, 136, 52, 87, 115, 140, 82, 69, 121]).reshape(-1, 1).reshape(15,1)\n",
    "\n",
    "x = np.asmatrix(np.c_[np.ones((15,1)),x])\n",
    "\n",
    "\n",
    "I = np.identity(2)\n",
    "alpha = 0.1\n",
    "\n",
    "\n",
    "w = np.linalg.inv(x.T*x + alpha * I)*x.T*y # update this line\n",
    "w=w.ravel()\n",
    "\n",
    "results = [np.squeeze(np.asarray(w)), sgd(x, y, alpha).ravel()]\n",
    "results = np.asarray(results).flatten().reshape(2, 2)\n",
    "table = pd.DataFrame(data=results, index=[\"lasso\", \"sgd\"], columns=[\"a\", \"b\"])\n",
    "table"
   ],
   "metadata": {
    "collapsed": false,
    "pycharm": {
     "name": "#%%\n"
    }
   }
  },
  {
   "cell_type": "markdown",
   "metadata": {},
   "source": [
    "## 3. Extend the Fisher's classifier\n",
    "\n",
    "Please extend the targets of the ``iris_data`` variable and use it as the $y$."
   ]
  },
  {
   "cell_type": "code",
   "execution_count": 24,
   "metadata": {},
   "outputs": [
    {
     "data": {
      "text/plain": "            a         b\n0    0.924785  1.051418\n1    0.885212  1.035589\n2    0.901042  1.019760\n3    0.893127  1.011845\n4    0.932700  1.043504\n..        ...       ...\n145  0.885212  1.178051\n146  0.845640  1.146393\n147  0.885212  1.162222\n148  0.916871  1.138479\n149  0.885212  1.114735\n\n[150 rows x 2 columns]",
      "text/html": "<div>\n<style scoped>\n    .dataframe tbody tr th:only-of-type {\n        vertical-align: middle;\n    }\n\n    .dataframe tbody tr th {\n        vertical-align: top;\n    }\n\n    .dataframe thead th {\n        text-align: right;\n    }\n</style>\n<table border=\"1\" class=\"dataframe\">\n  <thead>\n    <tr style=\"text-align: right;\">\n      <th></th>\n      <th>a</th>\n      <th>b</th>\n    </tr>\n  </thead>\n  <tbody>\n    <tr>\n      <th>0</th>\n      <td>0.924785</td>\n      <td>1.051418</td>\n    </tr>\n    <tr>\n      <th>1</th>\n      <td>0.885212</td>\n      <td>1.035589</td>\n    </tr>\n    <tr>\n      <th>2</th>\n      <td>0.901042</td>\n      <td>1.019760</td>\n    </tr>\n    <tr>\n      <th>3</th>\n      <td>0.893127</td>\n      <td>1.011845</td>\n    </tr>\n    <tr>\n      <th>4</th>\n      <td>0.932700</td>\n      <td>1.043504</td>\n    </tr>\n    <tr>\n      <th>...</th>\n      <td>...</td>\n      <td>...</td>\n    </tr>\n    <tr>\n      <th>145</th>\n      <td>0.885212</td>\n      <td>1.178051</td>\n    </tr>\n    <tr>\n      <th>146</th>\n      <td>0.845640</td>\n      <td>1.146393</td>\n    </tr>\n    <tr>\n      <th>147</th>\n      <td>0.885212</td>\n      <td>1.162222</td>\n    </tr>\n    <tr>\n      <th>148</th>\n      <td>0.916871</td>\n      <td>1.138479</td>\n    </tr>\n    <tr>\n      <th>149</th>\n      <td>0.885212</td>\n      <td>1.114735</td>\n    </tr>\n  </tbody>\n</table>\n<p>150 rows × 2 columns</p>\n</div>"
     },
     "execution_count": 24,
     "metadata": {},
     "output_type": "execute_result"
    }
   ],
   "source": [
    "import pandas as pd\n",
    "import numpy as np\n",
    "import matplotlib.pyplot as plt\n",
    "from sklearn.datasets import load_iris\n",
    "\n",
    "iris_data = load_iris()\n",
    "iris_df = pd.DataFrame(iris_data.data,columns=iris_data.feature_names)\n",
    "\n",
    "x = iris_df[['sepal width (cm)', \"sepal length (cm)\"]].values\n",
    "y = np.asarray(iris_data.target).reshape((len(iris_data.target), 1))\n",
    "\n",
    "dataset_size = np.size(x)\n",
    "\n",
    "mean_x, mean_y = np.mean(x), np.mean(y)\n",
    "\n",
    "SS_xy = np.sum(y * x) - dataset_size * mean_y * mean_x\n",
    "SS_xx = np.sum(x * x) - dataset_size * mean_x * mean_x\n",
    "\n",
    "a = SS_xy / SS_xx\n",
    "b = mean_y - a * mean_x\n",
    "\n",
    "\n",
    "y_pred = a * x + b\n",
    "\n",
    "results = pd.DataFrame(data=np.asarray(y_pred), columns=[\"a\", \"b\"])\n",
    "results"
   ]
  },
  {
   "cell_type": "code",
   "execution_count": null,
   "outputs": [],
   "source": [],
   "metadata": {
    "collapsed": false,
    "pycharm": {
     "name": "#%%\n"
    }
   }
  }
 ],
 "metadata": {
  "kernelspec": {
   "display_name": "Python 3",
   "language": "python",
   "name": "python3"
  },
  "language_info": {
   "codemirror_mode": {
    "name": "ipython",
    "version": 3
   },
   "file_extension": ".py",
   "mimetype": "text/x-python",
   "name": "python",
   "nbconvert_exporter": "python",
   "pygments_lexer": "ipython3",
   "version": "3.6.9"
  }
 },
 "nbformat": 4,
 "nbformat_minor": 4
}